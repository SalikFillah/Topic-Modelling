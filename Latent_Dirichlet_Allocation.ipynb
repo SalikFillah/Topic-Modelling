{
  "nbformat": 4,
  "nbformat_minor": 0,
  "metadata": {
    "colab": {
      "provenance": [],
      "authorship_tag": "ABX9TyOdITbBKdHA4ww0XAlXIWuI",
      "include_colab_link": true
    },
    "kernelspec": {
      "name": "python3",
      "display_name": "Python 3"
    }
  },
  "cells": [
    {
      "cell_type": "markdown",
      "metadata": {
        "id": "view-in-github",
        "colab_type": "text"
      },
      "source": [
        "<a href=\"https://colab.research.google.com/github/SalikFillah/Topic-Modelling/blob/main/Latent_Dirichlet_Allocation.ipynb\" target=\"_parent\"><img src=\"https://colab.research.google.com/assets/colab-badge.svg\" alt=\"Open In Colab\"/></a>"
      ]
    },
    {
      "cell_type": "markdown",
      "source": [
        "## Instalasi Modul"
      ],
      "metadata": {
        "id": "okikaq6A12gN"
      }
    },
    {
      "cell_type": "code",
      "source": [
        "!pip install nltk\n",
        "!pip install Sastrawi\n",
        "!pip install regex\n",
        "!pip install unidecode\n",
        "!pip install textblob\n",
        "!pip install tqdm\n",
        "!pip install scapy\n",
        "!pip install python-crfsuite\n",
        "!pip install gensim\n",
        "!pip install scikit-learn"
      ],
      "metadata": {
        "id": "LRTLWkWuAumM",
        "outputId": "b0f63200-7f4e-4c58-bc0c-97b8e82d0f0a",
        "colab": {
          "base_uri": "https://localhost:8080/"
        }
      },
      "execution_count": 1,
      "outputs": [
        {
          "output_type": "stream",
          "name": "stdout",
          "text": [
            "Looking in indexes: https://pypi.org/simple, https://us-python.pkg.dev/colab-wheels/public/simple/\n",
            "Requirement already satisfied: nltk in /usr/local/lib/python3.10/dist-packages (3.8.1)\n",
            "Requirement already satisfied: tqdm in /usr/local/lib/python3.10/dist-packages (from nltk) (4.65.0)\n",
            "Requirement already satisfied: joblib in /usr/local/lib/python3.10/dist-packages (from nltk) (1.2.0)\n",
            "Requirement already satisfied: regex>=2021.8.3 in /usr/local/lib/python3.10/dist-packages (from nltk) (2022.10.31)\n",
            "Requirement already satisfied: click in /usr/local/lib/python3.10/dist-packages (from nltk) (8.1.3)\n",
            "Looking in indexes: https://pypi.org/simple, https://us-python.pkg.dev/colab-wheels/public/simple/\n",
            "Collecting Sastrawi\n",
            "  Downloading Sastrawi-1.0.1-py2.py3-none-any.whl (209 kB)\n",
            "\u001b[2K     \u001b[90m━━━━━━━━━━━━━━━━━━━━━━━━━━━━━━━━━━━━━━━\u001b[0m \u001b[32m209.7/209.7 kB\u001b[0m \u001b[31m7.8 MB/s\u001b[0m eta \u001b[36m0:00:00\u001b[0m\n",
            "\u001b[?25hInstalling collected packages: Sastrawi\n",
            "Successfully installed Sastrawi-1.0.1\n",
            "Looking in indexes: https://pypi.org/simple, https://us-python.pkg.dev/colab-wheels/public/simple/\n",
            "Requirement already satisfied: regex in /usr/local/lib/python3.10/dist-packages (2022.10.31)\n",
            "Looking in indexes: https://pypi.org/simple, https://us-python.pkg.dev/colab-wheels/public/simple/\n",
            "Collecting unidecode\n",
            "  Downloading Unidecode-1.3.6-py3-none-any.whl (235 kB)\n",
            "\u001b[2K     \u001b[90m━━━━━━━━━━━━━━━━━━━━━━━━━━━━━━━━━━━━━━━\u001b[0m \u001b[32m235.9/235.9 kB\u001b[0m \u001b[31m9.6 MB/s\u001b[0m eta \u001b[36m0:00:00\u001b[0m\n",
            "\u001b[?25hInstalling collected packages: unidecode\n",
            "Successfully installed unidecode-1.3.6\n",
            "Looking in indexes: https://pypi.org/simple, https://us-python.pkg.dev/colab-wheels/public/simple/\n",
            "Requirement already satisfied: textblob in /usr/local/lib/python3.10/dist-packages (0.17.1)\n",
            "Requirement already satisfied: nltk>=3.1 in /usr/local/lib/python3.10/dist-packages (from textblob) (3.8.1)\n",
            "Requirement already satisfied: click in /usr/local/lib/python3.10/dist-packages (from nltk>=3.1->textblob) (8.1.3)\n",
            "Requirement already satisfied: tqdm in /usr/local/lib/python3.10/dist-packages (from nltk>=3.1->textblob) (4.65.0)\n",
            "Requirement already satisfied: joblib in /usr/local/lib/python3.10/dist-packages (from nltk>=3.1->textblob) (1.2.0)\n",
            "Requirement already satisfied: regex>=2021.8.3 in /usr/local/lib/python3.10/dist-packages (from nltk>=3.1->textblob) (2022.10.31)\n",
            "Looking in indexes: https://pypi.org/simple, https://us-python.pkg.dev/colab-wheels/public/simple/\n",
            "Requirement already satisfied: tqdm in /usr/local/lib/python3.10/dist-packages (4.65.0)\n",
            "Looking in indexes: https://pypi.org/simple, https://us-python.pkg.dev/colab-wheels/public/simple/\n",
            "Collecting scapy\n",
            "  Downloading scapy-2.5.0.tar.gz (1.3 MB)\n",
            "\u001b[2K     \u001b[90m━━━━━━━━━━━━━━━━━━━━━━━━━━━━━━━━━━━━━━━━\u001b[0m \u001b[32m1.3/1.3 MB\u001b[0m \u001b[31m23.4 MB/s\u001b[0m eta \u001b[36m0:00:00\u001b[0m\n",
            "\u001b[?25h  Preparing metadata (setup.py) ... \u001b[?25l\u001b[?25hdone\n",
            "Building wheels for collected packages: scapy\n",
            "  Building wheel for scapy (setup.py) ... \u001b[?25l\u001b[?25hdone\n",
            "  Created wheel for scapy: filename=scapy-2.5.0-py2.py3-none-any.whl size=1444345 sha256=514e63586e9d0c0f09b0e3f0f4ad2660d36580d3c0dbf39bb1b9cc7fba2d0ba4\n",
            "  Stored in directory: /root/.cache/pip/wheels/82/b7/03/8344d8cf6695624746311bc0d389e9d05535ca83c35f90241d\n",
            "Successfully built scapy\n",
            "Installing collected packages: scapy\n",
            "Successfully installed scapy-2.5.0\n",
            "Looking in indexes: https://pypi.org/simple, https://us-python.pkg.dev/colab-wheels/public/simple/\n",
            "Collecting python-crfsuite\n",
            "  Downloading python_crfsuite-0.9.9-cp310-cp310-manylinux_2_17_x86_64.manylinux2014_x86_64.whl (993 kB)\n",
            "\u001b[2K     \u001b[90m━━━━━━━━━━━━━━━━━━━━━━━━━━━━━━━━━━━━━━\u001b[0m \u001b[32m993.5/993.5 kB\u001b[0m \u001b[31m18.0 MB/s\u001b[0m eta \u001b[36m0:00:00\u001b[0m\n",
            "\u001b[?25hInstalling collected packages: python-crfsuite\n",
            "Successfully installed python-crfsuite-0.9.9\n",
            "Looking in indexes: https://pypi.org/simple, https://us-python.pkg.dev/colab-wheels/public/simple/\n",
            "Requirement already satisfied: gensim in /usr/local/lib/python3.10/dist-packages (4.3.1)\n",
            "Requirement already satisfied: scipy>=1.7.0 in /usr/local/lib/python3.10/dist-packages (from gensim) (1.10.1)\n",
            "Requirement already satisfied: smart-open>=1.8.1 in /usr/local/lib/python3.10/dist-packages (from gensim) (6.3.0)\n",
            "Requirement already satisfied: numpy>=1.18.5 in /usr/local/lib/python3.10/dist-packages (from gensim) (1.22.4)\n",
            "Looking in indexes: https://pypi.org/simple, https://us-python.pkg.dev/colab-wheels/public/simple/\n",
            "Requirement already satisfied: scikit-learn in /usr/local/lib/python3.10/dist-packages (1.2.2)\n",
            "Requirement already satisfied: threadpoolctl>=2.0.0 in /usr/local/lib/python3.10/dist-packages (from scikit-learn) (3.1.0)\n",
            "Requirement already satisfied: joblib>=1.1.1 in /usr/local/lib/python3.10/dist-packages (from scikit-learn) (1.2.0)\n",
            "Requirement already satisfied: numpy>=1.17.3 in /usr/local/lib/python3.10/dist-packages (from scikit-learn) (1.22.4)\n",
            "Requirement already satisfied: scipy>=1.3.2 in /usr/local/lib/python3.10/dist-packages (from scikit-learn) (1.10.1)\n"
          ]
        }
      ]
    },
    {
      "cell_type": "markdown",
      "source": [
        "## Import Modul"
      ],
      "metadata": {
        "id": "j1PsxjnR1-vM"
      }
    },
    {
      "cell_type": "code",
      "source": [
        "import pandas as pd\n",
        "import numpy as np\n",
        "import string\n",
        "import nltk\n",
        "\n",
        "# modul stopword & stemmer\n",
        "from Sastrawi.Stemmer.StemmerFactory import StemmerFactory\n",
        "from Sastrawi.StopWordRemover.StopWordRemoverFactory import StopWordRemoverFactory\n",
        "\n",
        "# modul preprocessing\n",
        "nltk.download('punkt')\n",
        "import re\n",
        "from unidecode import unidecode\n",
        "from html import unescape\n",
        "from textblob import TextBlob\n",
        "from tqdm import tqdm\n",
        "\n",
        "# modul lemma & pos-tag\n",
        "import spacy\n",
        "from spacy.lang.id import Indonesian\n",
        "from nltk.tag import CRFTagger\n",
        "ct = CRFTagger()\n",
        "\n",
        "# modul LDA\n",
        "from gensim.corpora.dictionary import Dictionary\n",
        "from gensim.models import LdaModel\n",
        "\n",
        "# modul DRT\n",
        "from sklearn.manifold import TSNE"
      ],
      "metadata": {
        "id": "fcHhTe-X1gU-",
        "outputId": "7fa35895-48b4-4c35-9f31-e2b29551c78f",
        "colab": {
          "base_uri": "https://localhost:8080/"
        }
      },
      "execution_count": 2,
      "outputs": [
        {
          "output_type": "stream",
          "name": "stderr",
          "text": [
            "[nltk_data] Downloading package punkt to /root/nltk_data...\n",
            "[nltk_data]   Unzipping tokenizers/punkt.zip.\n"
          ]
        }
      ]
    },
    {
      "cell_type": "markdown",
      "source": [
        "## Load Data"
      ],
      "metadata": {
        "id": "fXBueFU6B0jP"
      }
    },
    {
      "cell_type": "code",
      "source": [
        "df = pd.read_csv('https://raw.githubusercontent.com/SalikFillah/Topic-Modelling/main/anies_baswedan_2024.csv')\n",
        "df.head()"
      ],
      "metadata": {
        "colab": {
          "base_uri": "https://localhost:8080/",
          "height": 206
        },
        "id": "S0PfzNTH116x",
        "outputId": "9fe5ca78-731e-42d2-fe7a-292c8854c888"
      },
      "execution_count": 3,
      "outputs": [
        {
          "output_type": "execute_result",
          "data": {
            "text/plain": [
              "                                               title  \\\n",
              "0  ANIES BASWEDAN INDONESIA on Instagram: \"Imam B...   \n",
              "1  BuddyKu Headlines on Instagram: \"Buddies! Baka...   \n",
              "2  SINDOnews on Instagram: \"Meski memiliki elekta...   \n",
              "3  ANIES BASWEDAN INDONESIA on Instagram: \"Denger...   \n",
              "4  ANIES BASWEDAN on Instagram: \"Calon Presiden I...   \n",
              "\n",
              "                                       href  \\\n",
              "0  https://www.instagram.com/p/CHKVWZrnYOT/   \n",
              "1  https://www.instagram.com/p/Cn0MrvFPJdB/   \n",
              "2  https://www.instagram.com/p/CeAjzwnP0wi/   \n",
              "3  https://www.instagram.com/p/ClEVrd9IOEe/   \n",
              "4  https://www.instagram.com/p/Cm6c9HFr7Cu/   \n",
              "\n",
              "                                                body        date  \n",
              "0  940 likes, 43 comments - ANIES BASWEDAN INDONE...  2023-01-02  \n",
              "1  Bakal Calon Presiden (Bacapres) 2024 dari Part...  2023-01-02  \n",
              "2  309 likes, 29 comments - SINDOnews (@sindonews...  2023-01-02  \n",
              "3  1,286 likes, 70 comments - ANIES BASWEDAN INDO...  2023-01-02  \n",
              "4  9 likes, 0 comments - ANIES BASWEDAN (@aniesra...  2023-01-02  "
            ],
            "text/html": [
              "\n",
              "  <div id=\"df-5c894082-9b3a-444d-8556-b9b68b751247\">\n",
              "    <div class=\"colab-df-container\">\n",
              "      <div>\n",
              "<style scoped>\n",
              "    .dataframe tbody tr th:only-of-type {\n",
              "        vertical-align: middle;\n",
              "    }\n",
              "\n",
              "    .dataframe tbody tr th {\n",
              "        vertical-align: top;\n",
              "    }\n",
              "\n",
              "    .dataframe thead th {\n",
              "        text-align: right;\n",
              "    }\n",
              "</style>\n",
              "<table border=\"1\" class=\"dataframe\">\n",
              "  <thead>\n",
              "    <tr style=\"text-align: right;\">\n",
              "      <th></th>\n",
              "      <th>title</th>\n",
              "      <th>href</th>\n",
              "      <th>body</th>\n",
              "      <th>date</th>\n",
              "    </tr>\n",
              "  </thead>\n",
              "  <tbody>\n",
              "    <tr>\n",
              "      <th>0</th>\n",
              "      <td>ANIES BASWEDAN INDONESIA on Instagram: \"Imam B...</td>\n",
              "      <td>https://www.instagram.com/p/CHKVWZrnYOT/</td>\n",
              "      <td>940 likes, 43 comments - ANIES BASWEDAN INDONE...</td>\n",
              "      <td>2023-01-02</td>\n",
              "    </tr>\n",
              "    <tr>\n",
              "      <th>1</th>\n",
              "      <td>BuddyKu Headlines on Instagram: \"Buddies! Baka...</td>\n",
              "      <td>https://www.instagram.com/p/Cn0MrvFPJdB/</td>\n",
              "      <td>Bakal Calon Presiden (Bacapres) 2024 dari Part...</td>\n",
              "      <td>2023-01-02</td>\n",
              "    </tr>\n",
              "    <tr>\n",
              "      <th>2</th>\n",
              "      <td>SINDOnews on Instagram: \"Meski memiliki elekta...</td>\n",
              "      <td>https://www.instagram.com/p/CeAjzwnP0wi/</td>\n",
              "      <td>309 likes, 29 comments - SINDOnews (@sindonews...</td>\n",
              "      <td>2023-01-02</td>\n",
              "    </tr>\n",
              "    <tr>\n",
              "      <th>3</th>\n",
              "      <td>ANIES BASWEDAN INDONESIA on Instagram: \"Denger...</td>\n",
              "      <td>https://www.instagram.com/p/ClEVrd9IOEe/</td>\n",
              "      <td>1,286 likes, 70 comments - ANIES BASWEDAN INDO...</td>\n",
              "      <td>2023-01-02</td>\n",
              "    </tr>\n",
              "    <tr>\n",
              "      <th>4</th>\n",
              "      <td>ANIES BASWEDAN on Instagram: \"Calon Presiden I...</td>\n",
              "      <td>https://www.instagram.com/p/Cm6c9HFr7Cu/</td>\n",
              "      <td>9 likes, 0 comments - ANIES BASWEDAN (@aniesra...</td>\n",
              "      <td>2023-01-02</td>\n",
              "    </tr>\n",
              "  </tbody>\n",
              "</table>\n",
              "</div>\n",
              "      <button class=\"colab-df-convert\" onclick=\"convertToInteractive('df-5c894082-9b3a-444d-8556-b9b68b751247')\"\n",
              "              title=\"Convert this dataframe to an interactive table.\"\n",
              "              style=\"display:none;\">\n",
              "        \n",
              "  <svg xmlns=\"http://www.w3.org/2000/svg\" height=\"24px\"viewBox=\"0 0 24 24\"\n",
              "       width=\"24px\">\n",
              "    <path d=\"M0 0h24v24H0V0z\" fill=\"none\"/>\n",
              "    <path d=\"M18.56 5.44l.94 2.06.94-2.06 2.06-.94-2.06-.94-.94-2.06-.94 2.06-2.06.94zm-11 1L8.5 8.5l.94-2.06 2.06-.94-2.06-.94L8.5 2.5l-.94 2.06-2.06.94zm10 10l.94 2.06.94-2.06 2.06-.94-2.06-.94-.94-2.06-.94 2.06-2.06.94z\"/><path d=\"M17.41 7.96l-1.37-1.37c-.4-.4-.92-.59-1.43-.59-.52 0-1.04.2-1.43.59L10.3 9.45l-7.72 7.72c-.78.78-.78 2.05 0 2.83L4 21.41c.39.39.9.59 1.41.59.51 0 1.02-.2 1.41-.59l7.78-7.78 2.81-2.81c.8-.78.8-2.07 0-2.86zM5.41 20L4 18.59l7.72-7.72 1.47 1.35L5.41 20z\"/>\n",
              "  </svg>\n",
              "      </button>\n",
              "      \n",
              "  <style>\n",
              "    .colab-df-container {\n",
              "      display:flex;\n",
              "      flex-wrap:wrap;\n",
              "      gap: 12px;\n",
              "    }\n",
              "\n",
              "    .colab-df-convert {\n",
              "      background-color: #E8F0FE;\n",
              "      border: none;\n",
              "      border-radius: 50%;\n",
              "      cursor: pointer;\n",
              "      display: none;\n",
              "      fill: #1967D2;\n",
              "      height: 32px;\n",
              "      padding: 0 0 0 0;\n",
              "      width: 32px;\n",
              "    }\n",
              "\n",
              "    .colab-df-convert:hover {\n",
              "      background-color: #E2EBFA;\n",
              "      box-shadow: 0px 1px 2px rgba(60, 64, 67, 0.3), 0px 1px 3px 1px rgba(60, 64, 67, 0.15);\n",
              "      fill: #174EA6;\n",
              "    }\n",
              "\n",
              "    [theme=dark] .colab-df-convert {\n",
              "      background-color: #3B4455;\n",
              "      fill: #D2E3FC;\n",
              "    }\n",
              "\n",
              "    [theme=dark] .colab-df-convert:hover {\n",
              "      background-color: #434B5C;\n",
              "      box-shadow: 0px 1px 3px 1px rgba(0, 0, 0, 0.15);\n",
              "      filter: drop-shadow(0px 1px 2px rgba(0, 0, 0, 0.3));\n",
              "      fill: #FFFFFF;\n",
              "    }\n",
              "  </style>\n",
              "\n",
              "      <script>\n",
              "        const buttonEl =\n",
              "          document.querySelector('#df-5c894082-9b3a-444d-8556-b9b68b751247 button.colab-df-convert');\n",
              "        buttonEl.style.display =\n",
              "          google.colab.kernel.accessAllowed ? 'block' : 'none';\n",
              "\n",
              "        async function convertToInteractive(key) {\n",
              "          const element = document.querySelector('#df-5c894082-9b3a-444d-8556-b9b68b751247');\n",
              "          const dataTable =\n",
              "            await google.colab.kernel.invokeFunction('convertToInteractive',\n",
              "                                                     [key], {});\n",
              "          if (!dataTable) return;\n",
              "\n",
              "          const docLinkHtml = 'Like what you see? Visit the ' +\n",
              "            '<a target=\"_blank\" href=https://colab.research.google.com/notebooks/data_table.ipynb>data table notebook</a>'\n",
              "            + ' to learn more about interactive tables.';\n",
              "          element.innerHTML = '';\n",
              "          dataTable['output_type'] = 'display_data';\n",
              "          await google.colab.output.renderOutput(dataTable, element);\n",
              "          const docLink = document.createElement('div');\n",
              "          docLink.innerHTML = docLinkHtml;\n",
              "          element.appendChild(docLink);\n",
              "        }\n",
              "      </script>\n",
              "    </div>\n",
              "  </div>\n",
              "  "
            ]
          },
          "metadata": {},
          "execution_count": 3
        }
      ]
    },
    {
      "cell_type": "markdown",
      "source": [
        "## Preprocessing Data"
      ],
      "metadata": {
        "id": "8ONBSXmy_5JH"
      }
    },
    {
      "cell_type": "markdown",
      "source": [
        "### Load Slang atau Singkatan\n",
        "Modifikasi sesuka hati jika sekiranya masih terdapat singkatan yang perlu diubah."
      ],
      "metadata": {
        "id": "StNytplWBdj4"
      }
    },
    {
      "cell_type": "code",
      "source": [
        "slang = {'tdk':'tidak',\n",
        "         'ketum':'ketua umum',\n",
        "         'menjadi':'jadi',\n",
        "         'timnas':'tim nasional',\n",
        "         'membatalkan':'batal',\n",
        "         'alas':'alasan', \n",
        "         'kelem':'kelemahan'}"
      ],
      "metadata": {
        "id": "AsIFJZUGBp4K"
      },
      "execution_count": 4,
      "outputs": []
    },
    {
      "cell_type": "markdown",
      "source": [
        "### Load Stopword\n",
        "Modifikasi sesuka hati jika sekiranya masih terdapat kata yang seharusnya dihilangkan."
      ],
      "metadata": {
        "id": "WawrkYXFAAgQ"
      }
    },
    {
      "cell_type": "code",
      "source": [
        "factory = StopWordRemoverFactory()\n",
        "stemmer = StemmerFactory().create_stemmer()\n",
        "\n",
        "# stopword di modul Sastrawi\n",
        "Sastrawi_StopWords_id = set(factory.get_stop_words())\n",
        "\n",
        "# stopword tambahan\n",
        "tambahan = set(['a', 'akan', \n",
        "                'b', 'bisa', 'bahwa',\n",
        "                'c', 'comment', 'comments',\n",
        "                'd', 'dari', 'di',\n",
        "                'e', \n",
        "                'f', \n",
        "                'g', \n",
        "                'h',\n",
        "                'i', 'instagram',\n",
        "                'j',\n",
        "                'k',\n",
        "                'l', 'like', 'likes',\n",
        "                'm', 'menjadi',\n",
        "                'n', \n",
        "                'o', \n",
        "                'p', \n",
        "                'q', \n",
        "                'r', \n",
        "                's', 'sebagai', 'saja',\n",
        "                't',\n",
        "                'u', \n",
        "                'v', \n",
        "                'w', \n",
        "                'x', \n",
        "                'y',\n",
        "                'z',])\n",
        "\n",
        "Sastrawi_StopWords_id = Sastrawi_StopWords_id.union(tambahan)      \n",
        "print(Sastrawi_StopWords_id)"
      ],
      "metadata": {
        "id": "4MM9Y1Y9_yqM",
        "outputId": "071366e2-5d21-451e-f88b-6cded6636f45",
        "colab": {
          "base_uri": "https://localhost:8080/"
        }
      },
      "execution_count": 5,
      "outputs": [
        {
          "output_type": "stream",
          "name": "stdout",
          "text": [
            "{'untuk', 'k', 'akan', 'mereka', 'pun', 'pula', 'anda', 'sebetulnya', 'j', 'oleh', 'selain', 'supaya', 'namun', 'demikian', 'h', 'saja', 'melainkan', 'sebelum', 'b', 'anu', 'y', 'f', 'bagi', 'likes', 'ia', 'z', 'kenapa', 'begitu', 'sudah', 'kah', 'di', 'tentu', 'm', 'setiap', 'tolong', 'yaitu', 'sehingga', 'dulunya', 'maka', 'x', 'juga', 'nanti', 'v', 'setelah', 'yang', 'agak', 'adalah', 'secara', 'pasti', 'sementara', 'e', 'p', 'seraya', 'dan', 'itulah', 'mari', 'nggak', 'yakni', 'like', 'dia', 'terhadap', 'daripada', 'seolah', 'menurut', 'masih', 'jika', 'toh', 'dst', 'hal', 'seperti', 'telah', 'a', 'sedangkan', 'harus', 'sebagai', 'lain', 'dahulu', 'n', 'sambil', 'dengan', 'ok', 'kepada', 'ke', 'd', 'atau', 'r', 'ketika', 'g', 'bahwa', 'dari', 'sebab', 'c', 'bagaimanapun', 'setidaknya', 'dua', 'kembali', 'apalagi', 'bisa', 'itu', 'u', 'lagi', 'saat', 'sesudah', 'kita', 'karena', 'amat', 'kami', 'serta', 'mengapa', 'kecuali', 'dalam', 't', 'dll', 'comments', 'hanya', 'tetapi', 's', 'tentang', 'tanpa', 'dsb', 'comment', 'w', 'walau', 'seterusnya', 'seharusnya', 'dapat', 'l', 'i', 'pada', 'tapi', 'saya', 'ada', 'agar', 'antara', 'selagi', 'ingin', 'tidak', 'sampai', 'dimana', 'oh', 'boleh', 'belum', 'o', 'sesuatu', 'apakah', 'guna', 'sekitar', 'menjadi', 'kemana', 'ya', 'para', 'instagram', 'demi', 'q', 'ini'}\n"
          ]
        }
      ]
    },
    {
      "cell_type": "markdown",
      "source": [
        "### NLP (Natural Language Preprocessing)\n",
        "Membersihkan data teks dari karakter-karakter yang tidak diperlukan serta menangani stopword dan slang atau singkatan yang sudah di load sebelumnya dan lain sebagainya.\n",
        "\n",
        "Note : setiap platform media sosial memiliki cara pembersihan data nya masing-masing (modifikasi sesuka hati)."
      ],
      "metadata": {
        "id": "5oiwjDUPCGKK"
      }
    },
    {
      "cell_type": "code",
      "source": [
        "def cleanbody(text):\n",
        "    \n",
        "    # menghapus url\n",
        "    url_pattern = re.compile(r'(\\w+:\\/\\/\\S+)')\n",
        "    text = url_pattern.sub(' ', text)\n",
        "    \n",
        "    # menghapus hashtag\n",
        "    hashtag_pattern = re.compile(r'#\\w+\\b')\n",
        "    text = hashtag_pattern.sub(' ', text)\n",
        "    \n",
        "    # menghapus nama pengguna instagram (memuat \"@\")\n",
        "    username_pattern = re.compile(r'@\\w+\\b\\s*')\n",
        "    text = username_pattern.sub(' ', text)\n",
        "    \n",
        "    # menghapus angka\n",
        "    text = re.sub(r'\\b\\d+\\b|[^\\w\\s]', '', text)\n",
        "    \n",
        "    # mengahpus simbol\n",
        "    symbol_pattern = re.compile(r'[^\\w\\s]+')\n",
        "    text = symbol_pattern.sub(' ', text)\n",
        "    \n",
        "    # menghapus karakter yang tidak diperlukan (tergantung media sosial)\n",
        "    text = re.sub(r'\\n', ' ', text)\n",
        "    text = re.sub(r'\\r', ' ', text)\n",
        "    text = re.sub(r'&\\w+', '', text)\n",
        "    text = re.sub(r'\\s+', ' ', text).strip()\n",
        "    \n",
        "    # menangani huruf kapital dan spasi\n",
        "    text = unidecode(unescape(text.lower().strip()))\n",
        "    \n",
        "    # menangani slang atau singkatan \n",
        "    Tokens = TextBlob(text).words\n",
        "    for i,t in enumerate(Tokens):\n",
        "        if t in slang.keys():            \n",
        "            Tokens[i] = slang[t]\n",
        "        \n",
        "    # menangani stopword\n",
        "    text = ' '.join([t for t in Tokens if str(t) not in Sastrawi_StopWords_id and len(t)>2])\n",
        "    \n",
        "    # stemming\n",
        "    text = stemmer.stem(text)\n",
        "    \n",
        "    \n",
        "    return text"
      ],
      "metadata": {
        "id": "HzMVrEv_CE9R"
      },
      "execution_count": 6,
      "outputs": []
    },
    {
      "cell_type": "code",
      "source": [
        "# aplikasikan fungsi ke dalam kolom variabel baru\n",
        "df['clean_body'] = ''\n",
        "for idx, post in tqdm(df.iterrows()):\n",
        "    df.at[idx, 'clean_body'] = cleanbody(post.body)"
      ],
      "metadata": {
        "id": "y0RD_vzcIGKF",
        "outputId": "86d54933-6e9e-4514-df9c-35bc90b79edc",
        "colab": {
          "base_uri": "https://localhost:8080/"
        }
      },
      "execution_count": 7,
      "outputs": [
        {
          "output_type": "stream",
          "name": "stderr",
          "text": [
            "34it [00:11,  2.86it/s]\n"
          ]
        }
      ]
    },
    {
      "cell_type": "code",
      "source": [
        "df.head()"
      ],
      "metadata": {
        "id": "MaGBjQHUI-aZ",
        "outputId": "f3e7af1c-2c26-4dde-d210-3d059f1f4b24",
        "colab": {
          "base_uri": "https://localhost:8080/",
          "height": 337
        }
      },
      "execution_count": 8,
      "outputs": [
        {
          "output_type": "execute_result",
          "data": {
            "text/plain": [
              "                                               title  \\\n",
              "0  ANIES BASWEDAN INDONESIA on Instagram: \"Imam B...   \n",
              "1  BuddyKu Headlines on Instagram: \"Buddies! Baka...   \n",
              "2  SINDOnews on Instagram: \"Meski memiliki elekta...   \n",
              "3  ANIES BASWEDAN INDONESIA on Instagram: \"Denger...   \n",
              "4  ANIES BASWEDAN on Instagram: \"Calon Presiden I...   \n",
              "\n",
              "                                       href  \\\n",
              "0  https://www.instagram.com/p/CHKVWZrnYOT/   \n",
              "1  https://www.instagram.com/p/Cn0MrvFPJdB/   \n",
              "2  https://www.instagram.com/p/CeAjzwnP0wi/   \n",
              "3  https://www.instagram.com/p/ClEVrd9IOEe/   \n",
              "4  https://www.instagram.com/p/Cm6c9HFr7Cu/   \n",
              "\n",
              "                                                body        date  \\\n",
              "0  940 likes, 43 comments - ANIES BASWEDAN INDONE...  2023-01-02   \n",
              "1  Bakal Calon Presiden (Bacapres) 2024 dari Part...  2023-01-02   \n",
              "2  309 likes, 29 comments - SINDOnews (@sindonews...  2023-01-02   \n",
              "3  1,286 likes, 70 comments - ANIES BASWEDAN INDO...  2023-01-02   \n",
              "4  9 likes, 0 comments - ANIES BASWEDAN (@aniesra...  2023-01-02   \n",
              "\n",
              "                                          clean_body  \n",
              "0  anies baswedan indonesia imam besar front bela...  \n",
              "1  bakal calon presiden bacapres partai nasdem an...  \n",
              "2  sindonews meski milik elektabilitas tinggi jum...  \n",
              "3                  anies baswedan indonesia dengerin  \n",
              "4            anies baswedan calon presiden indonesia  "
            ],
            "text/html": [
              "\n",
              "  <div id=\"df-0c94de23-f729-481a-8547-e52247a1426e\">\n",
              "    <div class=\"colab-df-container\">\n",
              "      <div>\n",
              "<style scoped>\n",
              "    .dataframe tbody tr th:only-of-type {\n",
              "        vertical-align: middle;\n",
              "    }\n",
              "\n",
              "    .dataframe tbody tr th {\n",
              "        vertical-align: top;\n",
              "    }\n",
              "\n",
              "    .dataframe thead th {\n",
              "        text-align: right;\n",
              "    }\n",
              "</style>\n",
              "<table border=\"1\" class=\"dataframe\">\n",
              "  <thead>\n",
              "    <tr style=\"text-align: right;\">\n",
              "      <th></th>\n",
              "      <th>title</th>\n",
              "      <th>href</th>\n",
              "      <th>body</th>\n",
              "      <th>date</th>\n",
              "      <th>clean_body</th>\n",
              "    </tr>\n",
              "  </thead>\n",
              "  <tbody>\n",
              "    <tr>\n",
              "      <th>0</th>\n",
              "      <td>ANIES BASWEDAN INDONESIA on Instagram: \"Imam B...</td>\n",
              "      <td>https://www.instagram.com/p/CHKVWZrnYOT/</td>\n",
              "      <td>940 likes, 43 comments - ANIES BASWEDAN INDONE...</td>\n",
              "      <td>2023-01-02</td>\n",
              "      <td>anies baswedan indonesia imam besar front bela...</td>\n",
              "    </tr>\n",
              "    <tr>\n",
              "      <th>1</th>\n",
              "      <td>BuddyKu Headlines on Instagram: \"Buddies! Baka...</td>\n",
              "      <td>https://www.instagram.com/p/Cn0MrvFPJdB/</td>\n",
              "      <td>Bakal Calon Presiden (Bacapres) 2024 dari Part...</td>\n",
              "      <td>2023-01-02</td>\n",
              "      <td>bakal calon presiden bacapres partai nasdem an...</td>\n",
              "    </tr>\n",
              "    <tr>\n",
              "      <th>2</th>\n",
              "      <td>SINDOnews on Instagram: \"Meski memiliki elekta...</td>\n",
              "      <td>https://www.instagram.com/p/CeAjzwnP0wi/</td>\n",
              "      <td>309 likes, 29 comments - SINDOnews (@sindonews...</td>\n",
              "      <td>2023-01-02</td>\n",
              "      <td>sindonews meski milik elektabilitas tinggi jum...</td>\n",
              "    </tr>\n",
              "    <tr>\n",
              "      <th>3</th>\n",
              "      <td>ANIES BASWEDAN INDONESIA on Instagram: \"Denger...</td>\n",
              "      <td>https://www.instagram.com/p/ClEVrd9IOEe/</td>\n",
              "      <td>1,286 likes, 70 comments - ANIES BASWEDAN INDO...</td>\n",
              "      <td>2023-01-02</td>\n",
              "      <td>anies baswedan indonesia dengerin</td>\n",
              "    </tr>\n",
              "    <tr>\n",
              "      <th>4</th>\n",
              "      <td>ANIES BASWEDAN on Instagram: \"Calon Presiden I...</td>\n",
              "      <td>https://www.instagram.com/p/Cm6c9HFr7Cu/</td>\n",
              "      <td>9 likes, 0 comments - ANIES BASWEDAN (@aniesra...</td>\n",
              "      <td>2023-01-02</td>\n",
              "      <td>anies baswedan calon presiden indonesia</td>\n",
              "    </tr>\n",
              "  </tbody>\n",
              "</table>\n",
              "</div>\n",
              "      <button class=\"colab-df-convert\" onclick=\"convertToInteractive('df-0c94de23-f729-481a-8547-e52247a1426e')\"\n",
              "              title=\"Convert this dataframe to an interactive table.\"\n",
              "              style=\"display:none;\">\n",
              "        \n",
              "  <svg xmlns=\"http://www.w3.org/2000/svg\" height=\"24px\"viewBox=\"0 0 24 24\"\n",
              "       width=\"24px\">\n",
              "    <path d=\"M0 0h24v24H0V0z\" fill=\"none\"/>\n",
              "    <path d=\"M18.56 5.44l.94 2.06.94-2.06 2.06-.94-2.06-.94-.94-2.06-.94 2.06-2.06.94zm-11 1L8.5 8.5l.94-2.06 2.06-.94-2.06-.94L8.5 2.5l-.94 2.06-2.06.94zm10 10l.94 2.06.94-2.06 2.06-.94-2.06-.94-.94-2.06-.94 2.06-2.06.94z\"/><path d=\"M17.41 7.96l-1.37-1.37c-.4-.4-.92-.59-1.43-.59-.52 0-1.04.2-1.43.59L10.3 9.45l-7.72 7.72c-.78.78-.78 2.05 0 2.83L4 21.41c.39.39.9.59 1.41.59.51 0 1.02-.2 1.41-.59l7.78-7.78 2.81-2.81c.8-.78.8-2.07 0-2.86zM5.41 20L4 18.59l7.72-7.72 1.47 1.35L5.41 20z\"/>\n",
              "  </svg>\n",
              "      </button>\n",
              "      \n",
              "  <style>\n",
              "    .colab-df-container {\n",
              "      display:flex;\n",
              "      flex-wrap:wrap;\n",
              "      gap: 12px;\n",
              "    }\n",
              "\n",
              "    .colab-df-convert {\n",
              "      background-color: #E8F0FE;\n",
              "      border: none;\n",
              "      border-radius: 50%;\n",
              "      cursor: pointer;\n",
              "      display: none;\n",
              "      fill: #1967D2;\n",
              "      height: 32px;\n",
              "      padding: 0 0 0 0;\n",
              "      width: 32px;\n",
              "    }\n",
              "\n",
              "    .colab-df-convert:hover {\n",
              "      background-color: #E2EBFA;\n",
              "      box-shadow: 0px 1px 2px rgba(60, 64, 67, 0.3), 0px 1px 3px 1px rgba(60, 64, 67, 0.15);\n",
              "      fill: #174EA6;\n",
              "    }\n",
              "\n",
              "    [theme=dark] .colab-df-convert {\n",
              "      background-color: #3B4455;\n",
              "      fill: #D2E3FC;\n",
              "    }\n",
              "\n",
              "    [theme=dark] .colab-df-convert:hover {\n",
              "      background-color: #434B5C;\n",
              "      box-shadow: 0px 1px 3px 1px rgba(0, 0, 0, 0.15);\n",
              "      filter: drop-shadow(0px 1px 2px rgba(0, 0, 0, 0.3));\n",
              "      fill: #FFFFFF;\n",
              "    }\n",
              "  </style>\n",
              "\n",
              "      <script>\n",
              "        const buttonEl =\n",
              "          document.querySelector('#df-0c94de23-f729-481a-8547-e52247a1426e button.colab-df-convert');\n",
              "        buttonEl.style.display =\n",
              "          google.colab.kernel.accessAllowed ? 'block' : 'none';\n",
              "\n",
              "        async function convertToInteractive(key) {\n",
              "          const element = document.querySelector('#df-0c94de23-f729-481a-8547-e52247a1426e');\n",
              "          const dataTable =\n",
              "            await google.colab.kernel.invokeFunction('convertToInteractive',\n",
              "                                                     [key], {});\n",
              "          if (!dataTable) return;\n",
              "\n",
              "          const docLinkHtml = 'Like what you see? Visit the ' +\n",
              "            '<a target=\"_blank\" href=https://colab.research.google.com/notebooks/data_table.ipynb>data table notebook</a>'\n",
              "            + ' to learn more about interactive tables.';\n",
              "          element.innerHTML = '';\n",
              "          dataTable['output_type'] = 'display_data';\n",
              "          await google.colab.output.renderOutput(dataTable, element);\n",
              "          const docLink = document.createElement('div');\n",
              "          docLink.innerHTML = docLinkHtml;\n",
              "          element.appendChild(docLink);\n",
              "        }\n",
              "      </script>\n",
              "    </div>\n",
              "  </div>\n",
              "  "
            ]
          },
          "metadata": {},
          "execution_count": 8
        }
      ]
    },
    {
      "cell_type": "markdown",
      "source": [
        "### Lemmatisasi & Pos-Tag\n",
        "Bagian preprocessing yang paling vital atau krusial untuk proses LDA dari yang lainnya, yaitu identifikasi kata dasar serta pengelompokkan kata berdasarkan kategori kata tersebut."
      ],
      "metadata": {
        "id": "XpnO-z7UJnuX"
      }
    },
    {
      "cell_type": "code",
      "source": [
        "# lemma & pos-tag bahasa indonesia\n",
        "nlp_id = Indonesian()\n",
        "!wget -P data/ https://raw.githubusercontent.com/taudata-indonesia/eLearning/master/data/all_indo_man_tag_corpus_model.crf.tagger\n",
        "ct.set_model_file('data/all_indo_man_tag_corpus_model.crf.tagger')"
      ],
      "metadata": {
        "id": "_Ee7CpF3QP0M",
        "outputId": "a9ffa53f-2c2a-412a-c193-3f82e3c15ed0",
        "colab": {
          "base_uri": "https://localhost:8080/"
        }
      },
      "execution_count": 9,
      "outputs": [
        {
          "output_type": "stream",
          "name": "stdout",
          "text": [
            "--2023-05-07 04:35:51--  https://raw.githubusercontent.com/taudata-indonesia/eLearning/master/data/all_indo_man_tag_corpus_model.crf.tagger\n",
            "Resolving raw.githubusercontent.com (raw.githubusercontent.com)... 185.199.108.133, 185.199.109.133, 185.199.110.133, ...\n",
            "Connecting to raw.githubusercontent.com (raw.githubusercontent.com)|185.199.108.133|:443... connected.\n",
            "HTTP request sent, awaiting response... 200 OK\n",
            "Length: 1722780 (1.6M) [application/octet-stream]\n",
            "Saving to: ‘data/all_indo_man_tag_corpus_model.crf.tagger’\n",
            "\n",
            "all_indo_man_tag_co 100%[===================>]   1.64M  --.-KB/s    in 0.03s   \n",
            "\n",
            "2023-05-07 04:35:51 (50.0 MB/s) - ‘data/all_indo_man_tag_corpus_model.crf.tagger’ saved [1722780/1722780]\n",
            "\n"
          ]
        }
      ]
    },
    {
      "cell_type": "code",
      "source": [
        "def NLPfilter(t, filters):\n",
        "\n",
        "  # lemmatisasi\n",
        "  tokens = nlp_id(t)\n",
        "\n",
        "  # tokenisasi\n",
        "  tokens = [str(k) for k in tokens if len(k)>2]\n",
        "\n",
        "  # pos-tag\n",
        "  hasil = ct.tag_sents([tokens])\n",
        "  \n",
        "  return [k[0] for k in hasil[0] if k[1] in filters]"
      ],
      "metadata": {
        "id": "luOh7BFzKIKZ"
      },
      "execution_count": 10,
      "outputs": []
    },
    {
      "cell_type": "markdown",
      "source": [
        "  Note :\n",
        "- NN : kata benda tunggal (meja, buku, kucing, cinta, ...)\n",
        "- NNP : kata benda tunggal khusus (indonesia, google, nike, tokyo, ...)\n",
        "- NNS : kata benda jamak (buku-buku, meja-meja, ...)\n",
        "- NNPS : kata benda jamak khusus (beatles, avengers, simpsons, ...)\n",
        "- JJ : kata sifat (marah, tinggi, besar, indah, ...)"
      ],
      "metadata": {
        "id": "laqg917PMzVA"
      }
    },
    {
      "cell_type": "code",
      "source": [
        "# ambil variabel kolom hasil preprocessing\n",
        "data = df['clean_body'].values\n",
        "\n",
        "# pilih kategori kata \n",
        "filters = set(['NN', 'NNP', 'NNS', 'NNPS', 'JJ'])\n",
        "\n",
        "# aplikasikan fungsi ke dalam dataframe baru\n",
        "data_postTag = []\n",
        "for i, d in tqdm(enumerate(data)):\n",
        "    data_postTag.append(NLPfilter(d,filters))\n",
        "\n",
        "' '.join(data_postTag[0])"
      ],
      "metadata": {
        "id": "StQr6zYXLXuX",
        "outputId": "f7ba7063-d901-41b3-a634-4dadfb159f27",
        "colab": {
          "base_uri": "https://localhost:8080/",
          "height": 52
        }
      },
      "execution_count": 11,
      "outputs": [
        {
          "output_type": "stream",
          "name": "stderr",
          "text": [
            "34it [00:00, 752.53it/s]\n"
          ]
        },
        {
          "output_type": "execute_result",
          "data": {
            "text/plain": [
              "'anies baswedan indonesia imam besar front bela islam fpi umum indones anies baswedan indonesia imam besar front bela islam fpi umum indonesia'"
            ],
            "application/vnd.google.colaboratory.intrinsic+json": {
              "type": "string"
            }
          },
          "metadata": {},
          "execution_count": 11
        }
      ]
    },
    {
      "cell_type": "code",
      "source": [
        "# tokenisasi data kembali\n",
        "data = [d for d in data_postTag if d]"
      ],
      "metadata": {
        "id": "g_BOcB1rOY2c"
      },
      "execution_count": 12,
      "outputs": []
    },
    {
      "cell_type": "markdown",
      "source": [
        "## LDA (Latent Dirichlet Allocation)\n"
      ],
      "metadata": {
        "id": "2PZx5NIxSEEa"
      }
    },
    {
      "cell_type": "code",
      "source": [
        "# membuat representasi dictionary dari dokumen\n",
        "\n",
        "# membuang token yang langka dan umum\n",
        "dictionary_t = Dictionary(data)\n",
        "dictionary_t.filter_extremes(no_below=2, no_above=0.90)\n",
        "\n",
        "# membuat dictionary dan corpus yang diperlukan topic modelling\n",
        "corpus_t = [dictionary_t.doc2bow(doc) for doc in data]\n",
        "corpus_t = [t for t in corpus_t if t] # membuang corpus atau dokumen yang kosong\n",
        "\n",
        "print('Number of unique tokens: %d' % len(dictionary_t))\n",
        "print('Number of documents: %d' % len(corpus_t))\n",
        "print(corpus_t[:1])"
      ],
      "metadata": {
        "id": "HAIGQCx2SC_K",
        "outputId": "c9be7e68-ae6c-44ad-c7d3-6fa56f3096e4",
        "colab": {
          "base_uri": "https://localhost:8080/"
        }
      },
      "execution_count": 13,
      "outputs": [
        {
          "output_type": "stream",
          "name": "stdout",
          "text": [
            "Number of unique tokens: 36\n",
            "Number of documents: 30\n",
            "[[(0, 2), (1, 3)]]\n"
          ]
        }
      ]
    },
    {
      "cell_type": "markdown",
      "source": [
        "Pembuatan dataframe hasil keluaran dari algoritma LDA (Latent Dhiriclet Allocation)."
      ],
      "metadata": {
        "id": "XrX6u8oVWUEP"
      }
    },
    {
      "cell_type": "code",
      "source": [
        "def format_topics_sentences(ldamodel, corpus, texts, dates):\n",
        "    sent_topics_df = pd.DataFrame()\n",
        "\n",
        "    # Get main topic in each document\n",
        "    for i, row in enumerate(ldamodel[corpus]):\n",
        "        row = sorted(row, key=lambda x: (x[1]), reverse=True)\n",
        "        # Get the Dominant topic, Perc Contribution and Keywords for each document\n",
        "        for j, (topic_num, prop_topic) in enumerate(row):\n",
        "            if j == 0:  # => dominant topic\n",
        "                wp = ldamodel.show_topic(topic_num)\n",
        "                topic_keywords = \", \".join([word for word, prop in wp])\n",
        "                sent_topics_df = pd.concat([\n",
        "                    sent_topics_df,                   \n",
        "                pd.DataFrame([[int(topic_num), round(prop_topic, 4), topic_keywords]],\n",
        "                             columns=[\"Dominant_Topic\", \"Perc_Contribution\", \"Topic_Keywords\"])],\n",
        "                    ignore_index=True,\n",
        "                )\n",
        "            else:\n",
        "                break\n",
        "    sent_topics_df.columns = [\"Dominant_Topic\", \"Perc_Contribution\", \"Topic_Keywords\"]\n",
        "\n",
        "    # Add original text to the end of the output\n",
        "    contents = pd.Series(texts)\n",
        "\n",
        "    sent_topics_df = pd.concat([sent_topics_df, contents, pd.Series(dates)], axis=1)\n",
        "    return sent_topics_df"
      ],
      "metadata": {
        "id": "4mWqGRwpVh0u"
      },
      "execution_count": 14,
      "outputs": []
    },
    {
      "cell_type": "markdown",
      "source": [
        "Model DRT (Dimensional Reduction Technique)."
      ],
      "metadata": {
        "id": "EKdw1155XTHR"
      }
    },
    {
      "cell_type": "code",
      "source": [
        "def tsne_analysis(ldamodel, corpus):\n",
        "    topic_weights = []\n",
        "    for i, row_list in enumerate(ldamodel[corpus]):\n",
        "        topic_weights.append([w for i, w in row_list])\n",
        "\n",
        "    # Array of topic weights\n",
        "    df_topics = pd.DataFrame(topic_weights).fillna(0).values\n",
        "\n",
        "    # Keep the well separated points (optional)\n",
        "    # arr = arr[np.amax(arr, axis=1) > 0.35]\n",
        "\n",
        "    # Dominant topic number in each doc\n",
        "    topic_nums = np.argmax(df_topics, axis=1)\n",
        "\n",
        "    # tSNE Dimension Reduction\n",
        "    try:\n",
        "        tsne_model = TSNE(\n",
        "            n_components=2, verbose=1, random_state=0, angle=0.99, init=\"pca\"\n",
        "        )\n",
        "        tsne_lda = tsne_model.fit_transform(df_topics)\n",
        "    except:\n",
        "        print(\"TSNE_ANALYSIS WENT WRONG, PLEASE RE-CHECK YOUR BANK DATASET\")\n",
        "        return (topic_nums, None)\n",
        "\n",
        "    return (topic_nums, tsne_lda)"
      ],
      "metadata": {
        "id": "37tI9s8RXc1H"
      },
      "execution_count": 15,
      "outputs": []
    },
    {
      "cell_type": "markdown",
      "source": [
        "Penggabungan dataframe sedemikian sehingga data ini lah yang nantinya di aplikasikan ke dalah dashboard LDA."
      ],
      "metadata": {
        "id": "PzLNG9BZXgYc"
      }
    },
    {
      "cell_type": "code",
      "source": [
        "def lda_analysis(df):\n",
        "    \n",
        "    docs = list(df[\"clean_body\"].values)\n",
        "\n",
        "    punctuations = string.punctuation\n",
        "\n",
        "    processed_docs = data\n",
        "    print(\"Jumlah corpus atau dokumen\", len(processed_docs))\n",
        "    if len(processed_docs) < 11:\n",
        "        print(\"INSUFFICIENT DOCS TO RUN LINEAR DISCRIMINANT ANALYSIS\")\n",
        "        return (None, None, None, None)\n",
        "\n",
        "    print(\"Jumlah BoW (Bag of Words) corpus\", len(corpus_t))\n",
        "    print(\"Jumlah dictionary\", len(list(dictionary_t.keys())))\n",
        "    if len(list(dictionary_t.keys())) < 1:\n",
        "        print(\"INSUFFICIENT DICTS TO RUN LINEAR DISCRIMINANT ANALYSIS\")\n",
        "        return (None, None, None, None)\n",
        "\n",
        "    lda_model = LdaModel(\n",
        "        corpus_t, num_topics=5, id2word=dictionary_t, passes=10\n",
        "    )\n",
        "\n",
        "    df_topic_sents_keywords = format_topics_sentences(\n",
        "        ldamodel=lda_model,\n",
        "        corpus=corpus_t,\n",
        "        texts=docs,\n",
        "        dates=list(df[\"date\"].values),\n",
        "    )\n",
        "    print(\"Jumlah data\", len(df_topic_sents_keywords))\n",
        "    print(\"Data\", df_topic_sents_keywords.head())\n",
        "    df_dominant_topic = df_topic_sents_keywords.reset_index()\n",
        "    df_dominant_topic.columns = [\n",
        "        \"Document_No\",\n",
        "        \"Dominant_Topic\",\n",
        "        \"Topic_Perc_Contrib\",\n",
        "        \"Keywords\",\n",
        "        \"Text\",\n",
        "        \"Date\",\n",
        "    ]\n",
        "\n",
        "    print(\"Hasil DRT\")\n",
        "    topic_num, tsne_lda = tsne_analysis(lda_model, corpus_t)\n",
        "\n",
        "    return (tsne_lda, lda_model, topic_num, df_dominant_topic)"
      ],
      "metadata": {
        "id": "5liKL3fKXdx4"
      },
      "execution_count": 16,
      "outputs": []
    },
    {
      "cell_type": "code",
      "source": [
        "# aplikasikan fungsi dan simpan hasilnya ke dalam beberapa variabel berikut\n",
        "tsne_lda, lda_model, topic_num, df_dominant_topic = lda_analysis(df)"
      ],
      "metadata": {
        "id": "SM99XM_DXsrO",
        "outputId": "82ca625f-a431-49d1-c468-735a863a64fd",
        "colab": {
          "base_uri": "https://localhost:8080/"
        }
      },
      "execution_count": 17,
      "outputs": [
        {
          "output_type": "stream",
          "name": "stdout",
          "text": [
            "Jumlah corpus atau dokumen 33\n",
            "Jumlah BoW (Bag of Words) corpus 30\n",
            "Jumlah dictionary 36\n",
            "Jumlah data 34\n",
            "Data    Dominant_Topic  Perc_Contribution  \\\n",
            "0             4.0             0.8659   \n",
            "1             2.0             0.9420   \n",
            "2             0.0             0.9190   \n",
            "3             4.0             0.7313   \n",
            "4             4.0             0.8374   \n",
            "\n",
            "                                      Topic_Keywords  \\\n",
            "0  anies, indonesia, presiden, calon, sama, orang...   \n",
            "1  partai, calon, presiden, bakal, nasdem, bacapr...   \n",
            "2  gubernur, anies, jakarta, capres, kamil, barat...   \n",
            "3  anies, indonesia, presiden, calon, sama, orang...   \n",
            "4  anies, indonesia, presiden, calon, sama, orang...   \n",
            "\n",
            "                                                   0           1  \n",
            "0  anies baswedan indonesia imam besar front bela...  2023-01-02  \n",
            "1  bakal calon presiden bacapres partai nasdem an...  2023-01-02  \n",
            "2  sindonews meski milik elektabilitas tinggi jum...  2023-01-02  \n",
            "3                  anies baswedan indonesia dengerin  2023-01-02  \n",
            "4            anies baswedan calon presiden indonesia  2023-01-02  \n",
            "Hasil DRT\n",
            "TSNE_ANALYSIS WENT WRONG, PLEASE RE-CHECK YOUR BANK DATASET\n"
          ]
        }
      ]
    },
    {
      "cell_type": "code",
      "source": [
        "# data untuk pembuatan dashboard\n",
        "df_dominant_topic.head()"
      ],
      "metadata": {
        "id": "6m1GUwT_aCxK",
        "outputId": "0465e222-123a-491f-f2a9-47d76f8bdebc",
        "colab": {
          "base_uri": "https://localhost:8080/",
          "height": 206
        }
      },
      "execution_count": 18,
      "outputs": [
        {
          "output_type": "execute_result",
          "data": {
            "text/plain": [
              "   Document_No  Dominant_Topic  Topic_Perc_Contrib  \\\n",
              "0            0             4.0              0.8659   \n",
              "1            1             2.0              0.9420   \n",
              "2            2             0.0              0.9190   \n",
              "3            3             4.0              0.7313   \n",
              "4            4             4.0              0.8374   \n",
              "\n",
              "                                            Keywords  \\\n",
              "0  anies, indonesia, presiden, calon, sama, orang...   \n",
              "1  partai, calon, presiden, bakal, nasdem, bacapr...   \n",
              "2  gubernur, anies, jakarta, capres, kamil, barat...   \n",
              "3  anies, indonesia, presiden, calon, sama, orang...   \n",
              "4  anies, indonesia, presiden, calon, sama, orang...   \n",
              "\n",
              "                                                Text        Date  \n",
              "0  anies baswedan indonesia imam besar front bela...  2023-01-02  \n",
              "1  bakal calon presiden bacapres partai nasdem an...  2023-01-02  \n",
              "2  sindonews meski milik elektabilitas tinggi jum...  2023-01-02  \n",
              "3                  anies baswedan indonesia dengerin  2023-01-02  \n",
              "4            anies baswedan calon presiden indonesia  2023-01-02  "
            ],
            "text/html": [
              "\n",
              "  <div id=\"df-46b7c55e-3675-4e40-88af-099dafa2cc7b\">\n",
              "    <div class=\"colab-df-container\">\n",
              "      <div>\n",
              "<style scoped>\n",
              "    .dataframe tbody tr th:only-of-type {\n",
              "        vertical-align: middle;\n",
              "    }\n",
              "\n",
              "    .dataframe tbody tr th {\n",
              "        vertical-align: top;\n",
              "    }\n",
              "\n",
              "    .dataframe thead th {\n",
              "        text-align: right;\n",
              "    }\n",
              "</style>\n",
              "<table border=\"1\" class=\"dataframe\">\n",
              "  <thead>\n",
              "    <tr style=\"text-align: right;\">\n",
              "      <th></th>\n",
              "      <th>Document_No</th>\n",
              "      <th>Dominant_Topic</th>\n",
              "      <th>Topic_Perc_Contrib</th>\n",
              "      <th>Keywords</th>\n",
              "      <th>Text</th>\n",
              "      <th>Date</th>\n",
              "    </tr>\n",
              "  </thead>\n",
              "  <tbody>\n",
              "    <tr>\n",
              "      <th>0</th>\n",
              "      <td>0</td>\n",
              "      <td>4.0</td>\n",
              "      <td>0.8659</td>\n",
              "      <td>anies, indonesia, presiden, calon, sama, orang...</td>\n",
              "      <td>anies baswedan indonesia imam besar front bela...</td>\n",
              "      <td>2023-01-02</td>\n",
              "    </tr>\n",
              "    <tr>\n",
              "      <th>1</th>\n",
              "      <td>1</td>\n",
              "      <td>2.0</td>\n",
              "      <td>0.9420</td>\n",
              "      <td>partai, calon, presiden, bakal, nasdem, bacapr...</td>\n",
              "      <td>bakal calon presiden bacapres partai nasdem an...</td>\n",
              "      <td>2023-01-02</td>\n",
              "    </tr>\n",
              "    <tr>\n",
              "      <th>2</th>\n",
              "      <td>2</td>\n",
              "      <td>0.0</td>\n",
              "      <td>0.9190</td>\n",
              "      <td>gubernur, anies, jakarta, capres, kamil, barat...</td>\n",
              "      <td>sindonews meski milik elektabilitas tinggi jum...</td>\n",
              "      <td>2023-01-02</td>\n",
              "    </tr>\n",
              "    <tr>\n",
              "      <th>3</th>\n",
              "      <td>3</td>\n",
              "      <td>4.0</td>\n",
              "      <td>0.7313</td>\n",
              "      <td>anies, indonesia, presiden, calon, sama, orang...</td>\n",
              "      <td>anies baswedan indonesia dengerin</td>\n",
              "      <td>2023-01-02</td>\n",
              "    </tr>\n",
              "    <tr>\n",
              "      <th>4</th>\n",
              "      <td>4</td>\n",
              "      <td>4.0</td>\n",
              "      <td>0.8374</td>\n",
              "      <td>anies, indonesia, presiden, calon, sama, orang...</td>\n",
              "      <td>anies baswedan calon presiden indonesia</td>\n",
              "      <td>2023-01-02</td>\n",
              "    </tr>\n",
              "  </tbody>\n",
              "</table>\n",
              "</div>\n",
              "      <button class=\"colab-df-convert\" onclick=\"convertToInteractive('df-46b7c55e-3675-4e40-88af-099dafa2cc7b')\"\n",
              "              title=\"Convert this dataframe to an interactive table.\"\n",
              "              style=\"display:none;\">\n",
              "        \n",
              "  <svg xmlns=\"http://www.w3.org/2000/svg\" height=\"24px\"viewBox=\"0 0 24 24\"\n",
              "       width=\"24px\">\n",
              "    <path d=\"M0 0h24v24H0V0z\" fill=\"none\"/>\n",
              "    <path d=\"M18.56 5.44l.94 2.06.94-2.06 2.06-.94-2.06-.94-.94-2.06-.94 2.06-2.06.94zm-11 1L8.5 8.5l.94-2.06 2.06-.94-2.06-.94L8.5 2.5l-.94 2.06-2.06.94zm10 10l.94 2.06.94-2.06 2.06-.94-2.06-.94-.94-2.06-.94 2.06-2.06.94z\"/><path d=\"M17.41 7.96l-1.37-1.37c-.4-.4-.92-.59-1.43-.59-.52 0-1.04.2-1.43.59L10.3 9.45l-7.72 7.72c-.78.78-.78 2.05 0 2.83L4 21.41c.39.39.9.59 1.41.59.51 0 1.02-.2 1.41-.59l7.78-7.78 2.81-2.81c.8-.78.8-2.07 0-2.86zM5.41 20L4 18.59l7.72-7.72 1.47 1.35L5.41 20z\"/>\n",
              "  </svg>\n",
              "      </button>\n",
              "      \n",
              "  <style>\n",
              "    .colab-df-container {\n",
              "      display:flex;\n",
              "      flex-wrap:wrap;\n",
              "      gap: 12px;\n",
              "    }\n",
              "\n",
              "    .colab-df-convert {\n",
              "      background-color: #E8F0FE;\n",
              "      border: none;\n",
              "      border-radius: 50%;\n",
              "      cursor: pointer;\n",
              "      display: none;\n",
              "      fill: #1967D2;\n",
              "      height: 32px;\n",
              "      padding: 0 0 0 0;\n",
              "      width: 32px;\n",
              "    }\n",
              "\n",
              "    .colab-df-convert:hover {\n",
              "      background-color: #E2EBFA;\n",
              "      box-shadow: 0px 1px 2px rgba(60, 64, 67, 0.3), 0px 1px 3px 1px rgba(60, 64, 67, 0.15);\n",
              "      fill: #174EA6;\n",
              "    }\n",
              "\n",
              "    [theme=dark] .colab-df-convert {\n",
              "      background-color: #3B4455;\n",
              "      fill: #D2E3FC;\n",
              "    }\n",
              "\n",
              "    [theme=dark] .colab-df-convert:hover {\n",
              "      background-color: #434B5C;\n",
              "      box-shadow: 0px 1px 3px 1px rgba(0, 0, 0, 0.15);\n",
              "      filter: drop-shadow(0px 1px 2px rgba(0, 0, 0, 0.3));\n",
              "      fill: #FFFFFF;\n",
              "    }\n",
              "  </style>\n",
              "\n",
              "      <script>\n",
              "        const buttonEl =\n",
              "          document.querySelector('#df-46b7c55e-3675-4e40-88af-099dafa2cc7b button.colab-df-convert');\n",
              "        buttonEl.style.display =\n",
              "          google.colab.kernel.accessAllowed ? 'block' : 'none';\n",
              "\n",
              "        async function convertToInteractive(key) {\n",
              "          const element = document.querySelector('#df-46b7c55e-3675-4e40-88af-099dafa2cc7b');\n",
              "          const dataTable =\n",
              "            await google.colab.kernel.invokeFunction('convertToInteractive',\n",
              "                                                     [key], {});\n",
              "          if (!dataTable) return;\n",
              "\n",
              "          const docLinkHtml = 'Like what you see? Visit the ' +\n",
              "            '<a target=\"_blank\" href=https://colab.research.google.com/notebooks/data_table.ipynb>data table notebook</a>'\n",
              "            + ' to learn more about interactive tables.';\n",
              "          element.innerHTML = '';\n",
              "          dataTable['output_type'] = 'display_data';\n",
              "          await google.colab.output.renderOutput(dataTable, element);\n",
              "          const docLink = document.createElement('div');\n",
              "          docLink.innerHTML = docLinkHtml;\n",
              "          element.appendChild(docLink);\n",
              "        }\n",
              "      </script>\n",
              "    </div>\n",
              "  </div>\n",
              "  "
            ]
          },
          "metadata": {},
          "execution_count": 18
        }
      ]
    },
    {
      "cell_type": "markdown",
      "source": [
        "## Referensi\n",
        "1.   https://taudata.blogspot.com/2022/05/nlptm-07.html\n",
        "2.   https://github.com/plotly/dash-sample-apps/blob/main/apps/dash-nlp/ldacomplaints.py"
      ],
      "metadata": {
        "id": "VvqdB7PybnkU"
      }
    }
  ]
}